{
 "cells": [
  {
   "cell_type": "markdown",
   "metadata": {
    "id": "2KcEmP0UM8Hn"
   },
   "source": [
    "### Task 1 (Medium Level)\n",
    "\n",
    "Write an if..else… code in Python to check whether a word is a  palindrome or not.\n",
    "\n",
    "Input: ‘malam’\n",
    "Output: ‘malam’ is a Palindrome\n",
    "\n",
    "Input: ‘ABBA’\n",
    "Output: ‘ABBA’ is a Palindrome\n",
    "\n",
    "Input: ‘Python’\n",
    "Output: ‘Python’ is not a Palindrome."
   ]
  },
  {
   "cell_type": "code",
   "execution_count": 4,
   "metadata": {
    "colab": {
     "base_uri": "https://localhost:8080/"
    },
    "id": "J0Akn6fNL_WR",
    "outputId": "386bc635-e34d-4354-e4cd-d3d6c57cf2fb"
   },
   "outputs": [
    {
     "name": "stdout",
     "output_type": "stream",
     "text": [
      "Input a unique word: alila\n",
      "alila  is a palindrome\n"
     ]
    }
   ],
   "source": [
    "word = str(input(\"Input a unique word: \"))\n",
    "list1 = [] #kata dari depan\n",
    "list2 = [] #kata dari belakang\n",
    "for x in range(len(word)):\n",
    "  list1. append(word[x])\n",
    "  list2. append(word[-(x+1)])\n",
    "if list1 == list2:\n",
    "  print(word, \" is a palindrome\")\n",
    "else:\n",
    "  print(word, \" is not a palindrome\")"
   ]
  },
  {
   "cell_type": "markdown",
   "metadata": {
    "id": "cxm0dh17Nzbw"
   },
   "source": [
    "### Task 2 (Low Level)\n",
    "\n",
    "Tulislah code dalam python, dimana ketika diberikan inputan kalimat sesuai dengan kasus diatas maka outputnya adalah: \n",
    "* ada black list word\n",
    "* tidak ada black list word\n",
    "tergantung apakah ada word yang di black list dalam satu kalimat\n",
    "\n",
    "black_list_word = [‘andi’, ‘susi’, ‘bola’]"
   ]
  },
  {
   "cell_type": "code",
   "execution_count": 7,
   "metadata": {
    "colab": {
     "base_uri": "https://localhost:8080/"
    },
    "id": "KHkbaKzIMFRH",
    "outputId": "ea894ae4-4932-4673-884b-a541a869ec4d"
   },
   "outputs": [
    {
     "name": "stdout",
     "output_type": "stream",
     "text": [
      "Input a sentence : anandi\n",
      "tidak ada black list word\n"
     ]
    }
   ],
   "source": [
    "black_list_word = [\"andi\", \"susi\", \"bola\"]\n",
    "words = [] #untuk menampung black list word yang ada pada input\n",
    "\n",
    "sents = str(input(\"Input a sentence : \"))\n",
    "sents = sents.split(\" \")\n",
    "for x in sents:\n",
    "  if x in black_list_word:\n",
    "    words. append(x)\n",
    "    break\n",
    "  else:\n",
    "    pass\n",
    "\n",
    "if len(words) != 0:\n",
    "  print(\"ada black list word\") \n",
    "else:\n",
    "  print(\"tidak ada black list word\")"
   ]
  }
 ],
 "metadata": {
  "colab": {
   "name": "HW_Data_Type_and_Structure_AchmadLuckytaFasyni.ipynb",
   "provenance": []
  },
  "kernelspec": {
   "display_name": "Python 3 (ipykernel)",
   "language": "python",
   "name": "python3"
  },
  "language_info": {
   "codemirror_mode": {
    "name": "ipython",
    "version": 3
   },
   "file_extension": ".py",
   "mimetype": "text/x-python",
   "name": "python",
   "nbconvert_exporter": "python",
   "pygments_lexer": "ipython3",
   "version": "3.9.12"
  }
 },
 "nbformat": 4,
 "nbformat_minor": 1
}

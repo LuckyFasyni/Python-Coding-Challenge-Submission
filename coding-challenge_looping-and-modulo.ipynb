{
 "cells": [
  {
   "cell_type": "markdown",
   "metadata": {
    "id": "3P7oo4bgJKhQ"
   },
   "source": [
    "### **Soal 1**: \n",
    "\n",
    "Print out integers which are multiples of 3 from 1 to 22.\n",
    "(Print out bilangan bulat yang merupakan kelipatan 3 dari 1 sampai 22).\n",
    "\n",
    "**Ekspektasi jawaban:**\n",
    "\n",
    "Ketika kode kalian di-run, muncul angka-angka: 3, 6, 9, 12, 15, 18, 21. Gunakan looping."
   ]
  },
  {
   "cell_type": "code",
   "execution_count": 1,
   "metadata": {
    "colab": {
     "base_uri": "https://localhost:8080/"
    },
    "id": "9R8jfNodFmD7",
    "outputId": "37618f4d-122d-4e13-fe5f-28c885aea66d"
   },
   "outputs": [
    {
     "name": "stdout",
     "output_type": "stream",
     "text": [
      "3\n",
      "6\n",
      "9\n",
      "12\n",
      "15\n",
      "18\n",
      "21\n",
      "3\n",
      "6\n",
      "9\n",
      "12\n",
      "15\n",
      "18\n",
      "21\n"
     ]
    }
   ],
   "source": [
    "#alternatif 1\n",
    "for x in range (3, 22, 3):\n",
    "  print(x)\n",
    "\n",
    "#alternatif 2\n",
    "for x in range(1, 22):\n",
    "  if x%3 == 0:\n",
    "    print(x)\n",
    "  else:\n",
    "    pass"
   ]
  },
  {
   "cell_type": "markdown",
   "metadata": {
    "id": "DMVBe0kiJZ74"
   },
   "source": [
    "### **Soal 2**: \n",
    "\n",
    "Buat sebuah function di Python untuk mengecek apakah sebuah angka merupakan bilangan prima atau bukan.\n",
    "\n",
    "Ekspektasi jawaban: \n",
    "\n",
    "misal fungsi Anda bernama prime_check. Ketika kita jalankan prime_check(5), maka outputnya adalah '5 is a Prime number'. Fungsi ini harus bisa berlaku untuk input apa pun."
   ]
  },
  {
   "cell_type": "code",
   "execution_count": 3,
   "metadata": {
    "collapsed": true,
    "id": "_X02BvCJGBRB"
   },
   "outputs": [],
   "source": [
    "def prime_check(number):  \n",
    "  if type(number) != int:\n",
    "    print(\"Input a round number!\") \n",
    "  elif number < 1:\n",
    "    print(\"Input a positive number!\")\n",
    "  else:\n",
    "    mod = []\n",
    "    for x in range(1, number):\n",
    "      if number%x == 0:\n",
    "        if x == 1:\n",
    "          pass\n",
    "        else:\n",
    "          mod.append(x)\n",
    "      else:\n",
    "        pass\n",
    "    if len(mod) == 0:\n",
    "      print(number, \" is a prime number\") \n",
    "    else:\n",
    "      print(number, \" is not a prime number\") "
   ]
  }
 ],
 "metadata": {
  "colab": {
   "name": "Coding_Exercise1_Day3_Looping_Modulo_AchmadLuckytaFasyni.ipynb",
   "provenance": []
  },
  "kernelspec": {
   "display_name": "Python 3 (ipykernel)",
   "language": "python",
   "name": "python3"
  },
  "language_info": {
   "codemirror_mode": {
    "name": "ipython",
    "version": 3
   },
   "file_extension": ".py",
   "mimetype": "text/x-python",
   "name": "python",
   "nbconvert_exporter": "python",
   "pygments_lexer": "ipython3",
   "version": "3.9.12"
  }
 },
 "nbformat": 4,
 "nbformat_minor": 1
}

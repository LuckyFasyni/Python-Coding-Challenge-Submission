{
 "cells": [
  {
   "cell_type": "markdown",
   "id": "rgyHha0XVqWk",
   "metadata": {
    "id": "rgyHha0XVqWk"
   },
   "source": [
    "## Welcome to Coding Exercise 4\n",
    "**You only need to solve 2 question only**"
   ]
  },
  {
   "cell_type": "markdown",
   "id": "yYHzZQQ7VqWo",
   "metadata": {
    "id": "yYHzZQQ7VqWo"
   },
   "source": [
    "### Question 1. \n",
    "### \"Shifting Members of an Array\""
   ]
  },
  {
   "cell_type": "markdown",
   "id": "HnQ0f2qIVqWp",
   "metadata": {
    "id": "HnQ0f2qIVqWp"
   },
   "source": [
    "In this question, we want to shift our array to the right. How many times? Depends on the input. \n",
    "\n",
    "##### Example 1:\n",
    "array = [1,2,3,4,5]\n",
    "steps = 3\n",
    "\n",
    "We need to shift the array 3 steps to the right. \n",
    "- Original array = [1,2,3,4,5]\n",
    "- Step 1 = [5,1,2,3,4]\n",
    "- Step 2 = [4,5,1,2,3]\n",
    "- Step 3 = [3,4,5,1,2]\n",
    "\n",
    "Answer = [3,4,5,1,2]\n",
    "\n",
    "##### Example 2:\n",
    "array = [1,2,3]\n",
    "steps = 5\n",
    "\n",
    "We need to shift the array 5 steps to the right.\n",
    "\n",
    "- Original array = [1,2,3]\n",
    "- Step 1 = [3,1,2]\n",
    "- Step 2 = [2,3,1]\n",
    "- Step 3 = [1,2,3]\n",
    "- Step 4 = [3,1,2]\n",
    "- Step 5 = [2,3,1]\n",
    "\n",
    "Answer = [2,3,1]"
   ]
  },
  {
   "cell_type": "code",
   "execution_count": 1,
   "id": "fJsYHD2DVqWq",
   "metadata": {
    "id": "fJsYHD2DVqWq"
   },
   "outputs": [],
   "source": [
    "### Write your function here ###\n",
    "def shift(array, steps):\n",
    "    for i in range(steps):\n",
    "      array.insert(0, array.pop())\n",
    "    return array"
   ]
  },
  {
   "cell_type": "code",
   "execution_count": 2,
   "id": "qpDQUNijXhd7",
   "metadata": {
    "colab": {
     "base_uri": "https://localhost:8080/"
    },
    "id": "qpDQUNijXhd7",
    "outputId": "0daff0a2-55af-4d6a-9fbd-e389e3ab596d"
   },
   "outputs": [
    {
     "data": {
      "text/plain": [
       "[2, 3, 4, 5, 1]"
      ]
     },
     "execution_count": 2,
     "metadata": {},
     "output_type": "execute_result"
    }
   ],
   "source": [
    "shift([1,2,3,4,5],4)\n",
    "\n",
    "# Expected Output: [2, 3, 4, 5, 1]"
   ]
  },
  {
   "cell_type": "code",
   "execution_count": 3,
   "id": "jnr5znJUVqWr",
   "metadata": {
    "colab": {
     "base_uri": "https://localhost:8080/"
    },
    "id": "jnr5znJUVqWr",
    "outputId": "6cf9a0bb-7c27-4764-d9d5-b85c1344a76b"
   },
   "outputs": [
    {
     "data": {
      "text/plain": [
       "['budi', 'charlie', 'doni', 'andi']"
      ]
     },
     "execution_count": 3,
     "metadata": {},
     "output_type": "execute_result"
    }
   ],
   "source": [
    "shift(['andi', 'budi', 'charlie', 'doni'],7)\n",
    "\n",
    "# Expected Output: ['budi', 'charlie', 'doni', 'andi']"
   ]
  },
  {
   "cell_type": "code",
   "execution_count": 4,
   "id": "LJaWSk-sW9ak",
   "metadata": {
    "colab": {
     "base_uri": "https://localhost:8080/"
    },
    "id": "LJaWSk-sW9ak",
    "outputId": "c7f5c32c-768b-49f1-ce2c-993621871af3"
   },
   "outputs": [
    {
     "data": {
      "text/plain": [
       "['bing', 123, 'data', 'science', 'di', 'bim']"
      ]
     },
     "execution_count": 4,
     "metadata": {},
     "output_type": "execute_result"
    }
   ],
   "source": [
    "shift(['di', 'bim', 'bing', 123, 'data', 'science'],10)\n",
    "\n",
    "# Expected Output: ['bing', 123, 'data', 'science', 'di', 'bim']"
   ]
  },
  {
   "cell_type": "markdown",
   "id": "MRxU2bsKVqWs",
   "metadata": {
    "id": "MRxU2bsKVqWs"
   },
   "source": [
    "### Question 2. \n",
    "### \"Segitiga Paskal\""
   ]
  },
  {
   "cell_type": "markdown",
   "id": "hBUS1vtjVqWs",
   "metadata": {
    "id": "hBUS1vtjVqWs"
   },
   "source": [
    "We want to generate the n-th row of \"Pascal's Triangle\". Your function name should be ```pascal```. For those who does not know pascal triangle, watch this video: https://www.youtube.com/watch?v=1D3KsvfB8b0 and read https://www.mathsisfun.com/pascals-triangle.html \n",
    "\n",
    "##### Example 1:\n",
    "Input = 4,\n",
    "\n",
    "Answer = [1,4,6,4,1]\n",
    "\n",
    "##### Example 2:\n",
    "input = 3,\n",
    "\n",
    "Answer = [1,3,3,1]\n",
    "\n"
   ]
  },
  {
   "cell_type": "code",
   "execution_count": 6,
   "id": "-Jkxdrn_VqWu",
   "metadata": {
    "id": "-Jkxdrn_VqWu"
   },
   "outputs": [],
   "source": [
    "### Solution\n",
    "\n",
    "def pascal(input):\n",
    "  list = []\n",
    "  for row in range(input + 1):\n",
    "    if row == 0:\n",
    "      list.append([1])\n",
    "    elif row == 1:\n",
    "      list.append([1, 1])\n",
    "    else:\n",
    "      newrow = []\n",
    "      for column in range(row +  1):\n",
    "        if column == 0 or column == row:\n",
    "          newrow.append(1)\n",
    "        else:\n",
    "          newrow.append(list[row-1][column-1] + list[row-1][column])\n",
    "      list.append(newrow)\n",
    "  return list[input]"
   ]
  },
  {
   "cell_type": "code",
   "execution_count": 12,
   "id": "oRbvyp8oYsrU",
   "metadata": {
    "colab": {
     "base_uri": "https://localhost:8080/"
    },
    "id": "oRbvyp8oYsrU",
    "outputId": "a71582ed-3e09-4946-c488-b023a599fd60"
   },
   "outputs": [
    {
     "data": {
      "text/plain": [
       "[1, 2, 1]"
      ]
     },
     "execution_count": 12,
     "metadata": {},
     "output_type": "execute_result"
    }
   ],
   "source": [
    "pascal(2)"
   ]
  },
  {
   "cell_type": "code",
   "execution_count": 14,
   "id": "3606c008",
   "metadata": {},
   "outputs": [
    {
     "name": "stdout",
     "output_type": "stream",
     "text": [
      "[1]\n",
      "[1, 1]\n",
      "[1, 2, 1]\n",
      "[1, 3, 3, 1]\n",
      "[1, 4, 6, 4, 1]\n",
      "[1, 5, 10, 10, 5, 1]\n",
      "[1, 6, 15, 20, 15, 6, 1]\n",
      "[1, 7, 21, 35, 35, 21, 7, 1]\n",
      "[1, 8, 28, 56, 70, 56, 28, 8, 1]\n",
      "[1, 9, 36, 84, 126, 126, 84, 36, 9, 1]\n"
     ]
    }
   ],
   "source": [
    "for i in range(10):\n",
    "    print(pascal(i))"
   ]
  },
  {
   "cell_type": "markdown",
   "id": "UJFlJIG_VqWv",
   "metadata": {
    "id": "UJFlJIG_VqWv"
   },
   "source": [
    "### Question 3"
   ]
  },
  {
   "cell_type": "markdown",
   "id": "q_vw2BtGVqWv",
   "metadata": {
    "id": "q_vw2BtGVqWv"
   },
   "source": [
    "### \"Maximum Distance Between 3 Points\""
   ]
  },
  {
   "cell_type": "markdown",
   "id": "k6qNbSInVqWw",
   "metadata": {
    "id": "k6qNbSInVqWw"
   },
   "source": [
    "Given three coordinates, determine which two points are the furthest apart, and output the length of their distance. Your function should be called ```max_distance```. First coordinate is called 'A', second coordinate is called 'B', third coordinate is called 'C'. \n",
    "\n",
    "\n",
    "##### Example:\n",
    "A = [1,2],\n",
    "B = [10,-10],\n",
    "C = [-3, 5]\n",
    "\n",
    "- The distance between AB = 15\n",
    "- The distance between BC = 19.8\n",
    "- The distance between AC = 5.0\n",
    "\n",
    "Answer = \"The point A, B are furthest apart with distance 19.8\"\n"
   ]
  },
  {
   "cell_type": "code",
   "execution_count": 16,
   "id": "la5u9FV4VqWw",
   "metadata": {
    "id": "la5u9FV4VqWw"
   },
   "outputs": [],
   "source": [
    "### Write your solution here ###\n",
    "import numpy as np\n",
    "\n",
    "def max_distance(A,B,C):\n",
    "  AB = np.sqrt((A[0]-B[0])**2 + (A[1]-B[1])**2)\n",
    "  AC = np.sqrt((A[0]-C[0])**2 + (A[1]-C[1])**2)\n",
    "  BC = np.sqrt((B[0]-C[0])**2 + (B[1]-C[1])**2)\n",
    "  if AB > AC and AB > BC:\n",
    "    print(f'The point A, B are the furthest apart with distance {AB}')\n",
    "  elif AC > AB and AC > BC:\n",
    "    print(f'The point A, C are the furthest apart with distance {AC}')\n",
    "  elif BC > AB and BC > AC:\n",
    "    print(f'The point B, C are the furthest apart with distance {BC}')\n",
    "    #return"
   ]
  },
  {
   "cell_type": "code",
   "execution_count": 17,
   "id": "AOlaM0grVqWy",
   "metadata": {
    "colab": {
     "base_uri": "https://localhost:8080/"
    },
    "id": "AOlaM0grVqWy",
    "outputId": "b23671cd-ce33-4fe1-dab0-42dcdcfe872d"
   },
   "outputs": [
    {
     "name": "stdout",
     "output_type": "stream",
     "text": [
      "The point B, C are the furthest apart with distance 19.849433241279208\n"
     ]
    }
   ],
   "source": [
    "A = [1,2]\n",
    "B = [10,-10]\n",
    "C = [-3, 5]\n",
    "max_distance(A,B,C)"
   ]
  }
 ],
 "metadata": {
  "colab": {
   "collapsed_sections": [],
   "name": "Coding Exercise 4_Question.ipynb",
   "provenance": []
  },
  "kernelspec": {
   "display_name": "Python 3 (ipykernel)",
   "language": "python",
   "name": "python3"
  },
  "language_info": {
   "codemirror_mode": {
    "name": "ipython",
    "version": 3
   },
   "file_extension": ".py",
   "mimetype": "text/x-python",
   "name": "python",
   "nbconvert_exporter": "python",
   "pygments_lexer": "ipython3",
   "version": "3.9.12"
  }
 },
 "nbformat": 4,
 "nbformat_minor": 5
}

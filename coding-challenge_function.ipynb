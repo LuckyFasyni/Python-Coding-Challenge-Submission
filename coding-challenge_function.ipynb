{
 "cells": [
  {
   "cell_type": "markdown",
   "metadata": {},
   "source": [
    "### Week 2 Coding Challenge - Achmad Luckyta Fasyni"
   ]
  },
  {
   "cell_type": "markdown",
   "metadata": {},
   "source": [
    "#### Problem 1: Who is in the third place?"
   ]
  },
  {
   "cell_type": "markdown",
   "metadata": {},
   "source": [
    "Create a function whose name is ```third_place``` that does the following: \n",
    "\n",
    "Given a list of test score and a list of participants name. The desired output would be the name of the participant who gets the 3rd best score. The rule of determining the order of the best score is as follows:\n",
    "- Higher score is better\n",
    "- In case of multiple participants having the same test score, they can occupy the same ranking value. For example, if 2 participants scored 100, then both of them occupy the first place. \n",
    "\n",
    "The first input of the function is the name list, and the second input to the function is the score list."
   ]
  },
  {
   "cell_type": "code",
   "execution_count": 2,
   "metadata": {},
   "outputs": [
    {
     "name": "stdout",
     "output_type": "stream",
     "text": [
      "The third winner:  Budi\n",
      "The third winner:  Andi, Budi, Charlie\n",
      "The third winner:  Andi, Fanya\n"
     ]
    }
   ],
   "source": [
    "def third_place(names, score):\n",
    "    score_dict = {names[i] : score[i] for i in range(len(names))}\n",
    "    uniquescore = sorted(list(set(score)), reverse=True) #uniquescore[2]\n",
    "    third_placer = []\n",
    "    for key, value in score_dict.items():\n",
    "        if value == uniquescore[2]:\n",
    "            third_placer.append(key)\n",
    "    print(\"The third winner: \", \", \".join(third_placer))\n",
    "    \n",
    "#Example 1\n",
    "names = [\"Andi\", \"Budi\", \"Charlie\", \"Dilan\", \"Echa\"]\n",
    "score = [80, 90, 95, 100, 85]\n",
    "third_place(names, score)\n",
    "\n",
    "#Example 2\n",
    "names = [\"Andi\", \"Budi\", \"Charlie\", \"Dilan\", \"Echa\"]\n",
    "score = [80, 80, 80, 100, 90]\n",
    "third_place(names, score)\n",
    "\n",
    "#Example 3\n",
    "names = [\"Andi\", \"Budi\", \"Charlie\", \"Dilan\", \"Echa\", \"Fanya\"]\n",
    "score = [80, 90, 90, 100, 100, 80]\n",
    "third_place(names, score)"
   ]
  },
  {
   "cell_type": "markdown",
   "metadata": {},
   "source": [
    "#### Problem 2: Find the Square Root!"
   ]
  },
  {
   "cell_type": "markdown",
   "metadata": {},
   "source": [
    "Create a function whose name is ```square_root``` that does the following:\n",
    "\n",
    "Given a second order polynomial, find the roots (roots should be in real number). The input will be 3 numbers, each of them representing 'a', 'b', and 'c', in ax^2 + bx + c = 0.\n",
    "\n",
    "Your task is to find the root of ax^2 + bx + c = 0. \n",
    "\n",
    "However, notice that sometimes an equation cannot be solved, or they have only one solution instead of two. Your function should also take this into consideration. \n",
    "\n",
    "The input of your function is 3 numbers, first number is the 'a' constant, second number is the 'b' constant, and third number is the 'c' constant."
   ]
  },
  {
   "cell_type": "code",
   "execution_count": 2,
   "metadata": {},
   "outputs": [
    {
     "name": "stdout",
     "output_type": "stream",
     "text": [
      "X1 = 3.0, X2 = 2.0\n",
      "X = -1.0\n",
      "No solution\n"
     ]
    }
   ],
   "source": [
    "import math\n",
    "\n",
    "def square_root(a, b, c):\n",
    "    if b**2-4*a*c < 0:\n",
    "        print(\"No solution\")\n",
    "    else:\n",
    "        x1 = -(b - math.sqrt(b**2-4*a*c)) / (2*a)\n",
    "        x2 = -(b + math.sqrt(b**2-4*a*c)) / (2*a)\n",
    "        if x1 == x2:\n",
    "            print(\"X = \" + str(x1))\n",
    "        else:\n",
    "            print(\"X1 = \" + str(x1) + \", X2 = \" + str(x2))\n",
    "\n",
    "#Example 1\n",
    "square_root(1, -5, 6)\n",
    "\n",
    "#Example 2\n",
    "square_root(2, 4, 2)\n",
    "\n",
    "#Example 3\n",
    "square_root(1, 1, 9)"
   ]
  },
  {
   "cell_type": "markdown",
   "metadata": {},
   "source": [
    "#### Problem 3: Find Distance Between Two Coordinates - Easy"
   ]
  },
  {
   "cell_type": "markdown",
   "metadata": {},
   "source": [
    "Create a function called ```distance``` that does the following:\n",
    "\n",
    "Given two coordinates in a list. Your task is to calculate the distance between these two coordinates. The input of your function will be two list. Each list contains 2 members, representing the x and y position."
   ]
  },
  {
   "cell_type": "markdown",
   "metadata": {},
   "source": [
    "rumus akar kuadrat \n",
    "\n",
    "((x1 - x2)^2 + (y1 - y2)^2)^1/2"
   ]
  },
  {
   "cell_type": "code",
   "execution_count": 3,
   "metadata": {},
   "outputs": [
    {
     "name": "stdout",
     "output_type": "stream",
     "text": [
      "the distance is 5.0\n",
      "the distance is 4.242640687119285\n"
     ]
    }
   ],
   "source": [
    "def distance(point_1, point_2):\n",
    "    distance = math.sqrt((point_1[0]-point_2[0])**2 + (point_1[1]-point_2[1])**2)\n",
    "    print(\"the distance is\", distance)\n",
    "\n",
    "#Example 1\n",
    "point_1 = [5, 5]\n",
    "point_2 = [1, 2]\n",
    "distance(point_1, point_2)\n",
    "\n",
    "#Example 2\n",
    "point_1 = [0,-1]\n",
    "point_2 = [-3, 2]\n",
    "distance(point_1, point_2)"
   ]
  }
 ],
 "metadata": {
  "kernelspec": {
   "display_name": "Python 3 (ipykernel)",
   "language": "python",
   "name": "python3"
  },
  "language_info": {
   "codemirror_mode": {
    "name": "ipython",
    "version": 3
   },
   "file_extension": ".py",
   "mimetype": "text/x-python",
   "name": "python",
   "nbconvert_exporter": "python",
   "pygments_lexer": "ipython3",
   "version": "3.9.12"
  }
 },
 "nbformat": 4,
 "nbformat_minor": 2
}

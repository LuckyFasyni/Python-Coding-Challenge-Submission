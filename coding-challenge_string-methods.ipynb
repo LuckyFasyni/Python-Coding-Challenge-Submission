{
 "cells": [
  {
   "cell_type": "markdown",
   "metadata": {
    "id": "hhIQeEv4JdpK"
   },
   "source": [
    "## Welcome to the String Coding Challenge!\n",
    "\n",
    "From this week forward, your function initialization method will not be given. You should figure it out by yourself. Keep up the good work!\n",
    "\n",
    "You only need **solve 2 question**!"
   ]
  },
  {
   "cell_type": "markdown",
   "metadata": {
    "id": "ZwHc-3vSJdpj"
   },
   "source": [
    "Problem 1: Find the amount of substring."
   ]
  },
  {
   "cell_type": "markdown",
   "metadata": {
    "id": "_rD65MuvJdpm"
   },
   "source": [
    "Create a function whose name is ```substring_count``` that does the following: \n",
    "\n",
    "Given a string and a substring. Count how many times the substring appears in the string. The first input is always the string (the longer one), and the second input is always the substring (the shorter one).\n",
    "\n",
    "##### Example 1:\n",
    "\n",
    "Input:\n",
    "\n",
    "string = 'ABCDCDC'\n",
    "\n",
    "substring = 'CD'\n",
    "\n",
    "How many times 'CD' appears in 'ABCDCDC'? \n",
    "2 times! So when we run ```substring_count('ABCDCDC', 'CD')``` the output will be '2'. \n",
    "\n",
    "Output: 2\n",
    "\n",
    "##### Example 2:\n",
    "\n",
    "String:\n",
    "\n",
    "string = 'ABCDCDC'\n",
    "\n",
    "substring = 'CDC'\n",
    "\n",
    "How many times 'CDC' appears in 'ABCDCDC'?\n",
    "2 times! Yes, it can overlap. AB**CDC**DC, and ABCD**CDC**. So when we run ```substring_count('ABCDCDC', 'CDC')``` the output will be '2'. \n",
    "\n",
    "Output: 2\n",
    "\n",
    "##### Example 3:\n",
    "\n",
    "string = 'DEDFDEDEDEG'\n",
    "\n",
    "substring = 'DED'\n",
    "\n",
    "How many times 'DED' appears in 'DEDFDEDEDEG'?\n",
    "3 times! First: **DED**FDEDEDEG. Second: DEDF**DED**EDEG. Third: DEDFDE**DED**EG.\n",
    "\n",
    "Output: 3"
   ]
  },
  {
   "cell_type": "code",
   "execution_count": 5,
   "metadata": {
    "colab": {
     "base_uri": "https://localhost:8080/"
    },
    "executionInfo": {
     "elapsed": 17450,
     "status": "ok",
     "timestamp": 1656224161162,
     "user": {
      "displayName": "Paul Kurniawan",
      "userId": "13341967974165845995"
     },
     "user_tz": -420
    },
    "id": "T4YeC9kmJdpv",
    "outputId": "0725d325-c40b-4ed1-97dd-576e3e3dfefd"
   },
   "outputs": [
    {
     "name": "stdout",
     "output_type": "stream",
     "text": [
      "Input a string : ABCDCDC\n",
      "Input a substring you want to count its appearance in the string : CDC\n",
      "Number of substrings =  2\n"
     ]
    }
   ],
   "source": [
    "def substring_count():\n",
    "    string = input('Input a string : ')\n",
    "    substring = input('Input a substring you want to count its appearance in the string : ')\n",
    "    count = 0\n",
    "    for i in range(len(string)):\n",
    "        if string.startswith(substring, i):\n",
    "            count += 1\n",
    "    print ('Number of substrings = ', count)\n",
    "\n",
    "substring_count()"
   ]
  },
  {
   "cell_type": "markdown",
   "metadata": {
    "id": "kPc42YPuJdpw"
   },
   "source": [
    "Problem 2: How many different letters are there in the string?"
   ]
  },
  {
   "cell_type": "markdown",
   "metadata": {
    "id": "YtkU_gLYJdpx"
   },
   "source": [
    "Create a function called ```diff_letters``` that counts how many different letters are there in the input string.\n",
    "\n",
    "The input is just a single string.\n",
    "\n",
    "##### Example 1:\n",
    "\n",
    "Input: 'AAAAAAAAAB'\n",
    "\n",
    "Since there are only 2 different letters in the input string, the output is 2.\n",
    "\n",
    "When we run ```diff_letters```, the output is '2'.\n",
    "\n",
    "Output: 2\n",
    "\n",
    "##### Example 2:\n",
    "\n",
    "Input: 'ABCDAAAABBCCCE'\n",
    "\n",
    "Since there are 5 different letters in that string (A, B, C, D, E), the output is 5.\n",
    "\n",
    "Output: 5"
   ]
  },
  {
   "cell_type": "code",
   "execution_count": 7,
   "metadata": {},
   "outputs": [
    {
     "name": "stdout",
     "output_type": "stream",
     "text": [
      "Input a string : AAAAAAAAAB\n",
      "There are 2 different letters in the string!\n"
     ]
    }
   ],
   "source": [
    "def diff_letters():\n",
    "    string = input(\"Input a string : \")\n",
    "    string = set(string)\n",
    "    print(\"There are\", len(string), \"different letters in the string!\")\n",
    "\n",
    "diff_letters()"
   ]
  },
  {
   "cell_type": "markdown",
   "metadata": {
    "id": "fiXI1RgZJdp3"
   },
   "source": [
    "Problem 3: Find Distance Between Two Coordinates - Medium"
   ]
  },
  {
   "cell_type": "markdown",
   "metadata": {
    "id": "TZx_zMmbJdp3"
   },
   "source": [
    "Create a function called ```distance``` that does the following:\n",
    "\n",
    "Given two coordinates in a list. Your task is to calculate the distance between these two coordinates. The input of your function will be a string. The coordinate that appears first is the first coordinate, and the coordinate that appears after the comma is the second coordinate.\n",
    "\n",
    "##### Example 1:\n",
    "\n",
    "Input: \n",
    "\n",
    "'(5,5), (1,2)'\n",
    "\n",
    "This means, the first point's coordinate is (5,5), the second point's coordinate is (1,2). To calculate the distance between these two points, we use the usual euclidean distance formula here: https://wikimedia.org/api/rest_v1/media/math/render/svg/2e0c9ce1b3455cb9e92c6bad6684dbda02f69c82. \n",
    "\n",
    "The distance is: \n",
    "\n",
    "Square root of ((5-1)^2 + (5-2)^2) = Square root of (16 + 9) = Square root of (25) = 5.\n",
    "\n",
    "Output: 'The distance is 5'\n",
    "\n",
    "So, when we run the code ```distance('(5,5),(1,2)')``` the output will be 'The distance is 5'.\n",
    "\n",
    "##### Example 2:\n",
    "\n",
    "Input:\n",
    "\n",
    "'(0,-1), (-3,2)'\n",
    "\n",
    "The first coordinate is (0,-1), the second coordinate is (-3,2). The distance between them is:\n",
    "\n",
    "Square root of ((0- -3)^2 + (-1-2)^2) = Square root of (9 + 9) = Square root of (18) = 4.242640687\n",
    "\n",
    "Output: 'The distance is 4.242640687'\n",
    "\n",
    "So, when we run the code ```distance('(0,-1),(-3,2)')``` the output will be 'The distance is 4.242640487'\n",
    "\n",
    "##### FAQ:\n",
    "\n",
    "- Question: \"Desimalnya dibuletin ga?\"\n",
    "- Answer: \"Ga usah peduliin format output desimalnya. Mau keluar berapa angka di belakang koma gpp kok. Yang penting value nya bener.\" \n",
    "- Question: \"Lha bedanya apa sama soal week 2?\"\n",
    "- Answer: \"Bedanya kali ini inputnya cuma 1, dan dia berupa teks (string), bukan list kyk minggu lalu. Semangat!\""
   ]
  },
  {
   "cell_type": "code",
   "execution_count": 18,
   "metadata": {},
   "outputs": [
    {
     "name": "stdout",
     "output_type": "stream",
     "text": [
      "the distance is 5.0\n",
      "the distance is 4.242640687119285\n"
     ]
    }
   ],
   "source": [
    "import math\n",
    "\n",
    "def distance(coordinates):\n",
    "    coordinates = coordinates.strip() #menghilangkan whitespace\n",
    "    coordinates = coordinates.replace('(', '').replace(')', '') #menghilangkan '()'\n",
    "    string = ''\n",
    "    list = [] #untuk menyimpan list yang berisi koordinat dalam tipe numerik\n",
    "    for i in coordinates:\n",
    "        if i != ',':\n",
    "            string = string + i\n",
    "        else:\n",
    "            list.append(float(string))\n",
    "            string = ''\n",
    "    list.append(float(string)) #menambahkan akhir string sbg y2\n",
    "    x1, y1, x2, y2 = list[0], list[1], list[2], list[3]\n",
    "    distance = math.sqrt((x2-x1)**2 + (y2-y1)**2)\n",
    "    print(\"The distance is\", distance)\n",
    "\n",
    "distance('(5,5),(1,2)')\n",
    "distance('(0,-1),(-3,2)')"
   ]
  }
 ],
 "metadata": {
  "colab": {
   "collapsed_sections": [],
   "name": "CE3_Paul Teguh Kurniawan Wadihardjo.ipynb",
   "provenance": []
  },
  "kernelspec": {
   "display_name": "Python 3 (ipykernel)",
   "language": "python",
   "name": "python3"
  },
  "language_info": {
   "codemirror_mode": {
    "name": "ipython",
    "version": 3
   },
   "file_extension": ".py",
   "mimetype": "text/x-python",
   "name": "python",
   "nbconvert_exporter": "python",
   "pygments_lexer": "ipython3",
   "version": "3.9.12"
  }
 },
 "nbformat": 4,
 "nbformat_minor": 1
}

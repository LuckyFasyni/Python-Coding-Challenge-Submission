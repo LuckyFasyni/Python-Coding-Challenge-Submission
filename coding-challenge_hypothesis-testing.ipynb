{
 "cells": [
  {
   "cell_type": "markdown",
   "metadata": {},
   "source": [
    "# Customer Personality Analysis\n",
    "\n",
    "Customer Personality Analysis is a detailed analysis of a company’s ideal customers. It helps a business to better understand its customers and makes it easier for them to modify products according to the specific needs, behaviors and concerns of different types of customers.\n",
    "\n",
    "Customer personality analysis helps a business to modify its product based on its target customers from different types of customer segments. For example, instead of spending money to market a new product to every customer in the company’s database, a company can analyze which customer segment is most likely to buy the product and then market the product only on that particular segment.\n",
    "\n",
    "### Attributes on Dataset\n",
    "\n",
    "#### People\n",
    "* ID: Customer's unique identifier\n",
    "* Year_Birth: Customer's birth year\n",
    "* Education: Customer's education level\n",
    "* Marital_Status: Customer's marital status\n",
    "* Income: Customer's yearly household income\n",
    "* Kidhome: Number of children in customer's household\n",
    "* Teenhome: Number of teenagers in customer's household\n",
    "* Dt_Customer: Date of customer's enrollment with the company\n",
    "* Recency: Number of days since customer's last purchase\n",
    "* Complain: 1 if the customer complained in the last 2 years, 0 otherwise\n",
    "\n",
    "#### Products\n",
    "* MntWines: Amount spent on wine in last 2 years\n",
    "* MntFruits: Amount spent on fruits in last 2 years\n",
    "* MntMeatProducts: Amount spent on meat in last 2 years\n",
    "* MntFishProducts: Amount spent on fish in last 2 years\n",
    "* MntSweetProducts: Amount spent on sweets in last 2 years\n",
    "* MntGoldProds: Amount spent on gold in last 2 years\n",
    "\n",
    "#### Promotion\n",
    "* NumDealsPurchases: Number of purchases made with a discount\n",
    "* AcceptedCmp1: 1 if customer accepted the offer in the 1st campaign, 0 otherwise\n",
    "* AcceptedCmp2: 1 if customer accepted the offer in the 2nd campaign, 0 otherwise\n",
    "* AcceptedCmp3: 1 if customer accepted the offer in the 3rd campaign, 0 otherwise\n",
    "* AcceptedCmp4: 1 if customer accepted the offer in the 4th campaign, 0 otherwise\n",
    "* AcceptedCmp5: 1 if customer accepted the offer in the 5th campaign, 0 otherwise\n",
    "* Response: 1 if customer accepted the offer in the last campaign, 0 otherwise\n",
    "\n",
    "#### Place\n",
    "* NumWebPurchases: Number of purchases made through the company’s website\n",
    "* NumCatalogPurchases: Number of purchases made using a catalogue\n",
    "* NumStorePurchases: Number of purchases made directly in stores\n",
    "* NumWebVisitsMonth: Number of visits to company’s website in the last month"
   ]
  },
  {
   "cell_type": "code",
   "execution_count": 3,
   "metadata": {
    "collapsed": true
   },
   "outputs": [],
   "source": [
    "import pandas as pd\n",
    "import numpy as np\n",
    "import scipy.stats as st"
   ]
  },
  {
   "cell_type": "markdown",
   "metadata": {},
   "source": [
    "## Eksplorasi Dataset"
   ]
  },
  {
   "cell_type": "code",
   "execution_count": 4,
   "metadata": {
    "scrolled": false
   },
   "outputs": [
    {
     "name": "stdout",
     "output_type": "stream",
     "text": [
      "(2240, 29)\n"
     ]
    },
    {
     "data": {
      "text/html": [
       "<div>\n",
       "<table border=\"1\" class=\"dataframe\">\n",
       "  <thead>\n",
       "    <tr style=\"text-align: right;\">\n",
       "      <th></th>\n",
       "      <th>ID</th>\n",
       "      <th>Year_Birth</th>\n",
       "      <th>Education</th>\n",
       "      <th>Marital_Status</th>\n",
       "      <th>Income</th>\n",
       "      <th>Kidhome</th>\n",
       "      <th>Teenhome</th>\n",
       "      <th>Dt_Customer</th>\n",
       "      <th>Recency</th>\n",
       "      <th>MntWines</th>\n",
       "      <th>...</th>\n",
       "      <th>NumWebVisitsMonth</th>\n",
       "      <th>AcceptedCmp3</th>\n",
       "      <th>AcceptedCmp4</th>\n",
       "      <th>AcceptedCmp5</th>\n",
       "      <th>AcceptedCmp1</th>\n",
       "      <th>AcceptedCmp2</th>\n",
       "      <th>Complain</th>\n",
       "      <th>Z_CostContact</th>\n",
       "      <th>Z_Revenue</th>\n",
       "      <th>Response</th>\n",
       "    </tr>\n",
       "  </thead>\n",
       "  <tbody>\n",
       "    <tr>\n",
       "      <th>0</th>\n",
       "      <td>5524</td>\n",
       "      <td>1957</td>\n",
       "      <td>Graduation</td>\n",
       "      <td>Single</td>\n",
       "      <td>58138.0</td>\n",
       "      <td>0</td>\n",
       "      <td>0</td>\n",
       "      <td>04-09-2012</td>\n",
       "      <td>58</td>\n",
       "      <td>635</td>\n",
       "      <td>...</td>\n",
       "      <td>7</td>\n",
       "      <td>0</td>\n",
       "      <td>0</td>\n",
       "      <td>0</td>\n",
       "      <td>0</td>\n",
       "      <td>0</td>\n",
       "      <td>0</td>\n",
       "      <td>3</td>\n",
       "      <td>11</td>\n",
       "      <td>1</td>\n",
       "    </tr>\n",
       "    <tr>\n",
       "      <th>1</th>\n",
       "      <td>2174</td>\n",
       "      <td>1954</td>\n",
       "      <td>Graduation</td>\n",
       "      <td>Single</td>\n",
       "      <td>46344.0</td>\n",
       "      <td>1</td>\n",
       "      <td>1</td>\n",
       "      <td>08-03-2014</td>\n",
       "      <td>38</td>\n",
       "      <td>11</td>\n",
       "      <td>...</td>\n",
       "      <td>5</td>\n",
       "      <td>0</td>\n",
       "      <td>0</td>\n",
       "      <td>0</td>\n",
       "      <td>0</td>\n",
       "      <td>0</td>\n",
       "      <td>0</td>\n",
       "      <td>3</td>\n",
       "      <td>11</td>\n",
       "      <td>0</td>\n",
       "    </tr>\n",
       "    <tr>\n",
       "      <th>2</th>\n",
       "      <td>4141</td>\n",
       "      <td>1965</td>\n",
       "      <td>Graduation</td>\n",
       "      <td>Together</td>\n",
       "      <td>71613.0</td>\n",
       "      <td>0</td>\n",
       "      <td>0</td>\n",
       "      <td>21-08-2013</td>\n",
       "      <td>26</td>\n",
       "      <td>426</td>\n",
       "      <td>...</td>\n",
       "      <td>4</td>\n",
       "      <td>0</td>\n",
       "      <td>0</td>\n",
       "      <td>0</td>\n",
       "      <td>0</td>\n",
       "      <td>0</td>\n",
       "      <td>0</td>\n",
       "      <td>3</td>\n",
       "      <td>11</td>\n",
       "      <td>0</td>\n",
       "    </tr>\n",
       "    <tr>\n",
       "      <th>3</th>\n",
       "      <td>6182</td>\n",
       "      <td>1984</td>\n",
       "      <td>Graduation</td>\n",
       "      <td>Together</td>\n",
       "      <td>26646.0</td>\n",
       "      <td>1</td>\n",
       "      <td>0</td>\n",
       "      <td>10-02-2014</td>\n",
       "      <td>26</td>\n",
       "      <td>11</td>\n",
       "      <td>...</td>\n",
       "      <td>6</td>\n",
       "      <td>0</td>\n",
       "      <td>0</td>\n",
       "      <td>0</td>\n",
       "      <td>0</td>\n",
       "      <td>0</td>\n",
       "      <td>0</td>\n",
       "      <td>3</td>\n",
       "      <td>11</td>\n",
       "      <td>0</td>\n",
       "    </tr>\n",
       "    <tr>\n",
       "      <th>4</th>\n",
       "      <td>5324</td>\n",
       "      <td>1981</td>\n",
       "      <td>PhD</td>\n",
       "      <td>Married</td>\n",
       "      <td>58293.0</td>\n",
       "      <td>1</td>\n",
       "      <td>0</td>\n",
       "      <td>19-01-2014</td>\n",
       "      <td>94</td>\n",
       "      <td>173</td>\n",
       "      <td>...</td>\n",
       "      <td>5</td>\n",
       "      <td>0</td>\n",
       "      <td>0</td>\n",
       "      <td>0</td>\n",
       "      <td>0</td>\n",
       "      <td>0</td>\n",
       "      <td>0</td>\n",
       "      <td>3</td>\n",
       "      <td>11</td>\n",
       "      <td>0</td>\n",
       "    </tr>\n",
       "  </tbody>\n",
       "</table>\n",
       "<p>5 rows × 29 columns</p>\n",
       "</div>"
      ],
      "text/plain": [
       "     ID  Year_Birth   Education Marital_Status   Income  Kidhome  Teenhome  \\\n",
       "0  5524        1957  Graduation         Single  58138.0        0         0   \n",
       "1  2174        1954  Graduation         Single  46344.0        1         1   \n",
       "2  4141        1965  Graduation       Together  71613.0        0         0   \n",
       "3  6182        1984  Graduation       Together  26646.0        1         0   \n",
       "4  5324        1981         PhD        Married  58293.0        1         0   \n",
       "\n",
       "  Dt_Customer  Recency  MntWines    ...     NumWebVisitsMonth  AcceptedCmp3  \\\n",
       "0  04-09-2012       58       635    ...                     7             0   \n",
       "1  08-03-2014       38        11    ...                     5             0   \n",
       "2  21-08-2013       26       426    ...                     4             0   \n",
       "3  10-02-2014       26        11    ...                     6             0   \n",
       "4  19-01-2014       94       173    ...                     5             0   \n",
       "\n",
       "   AcceptedCmp4  AcceptedCmp5  AcceptedCmp1  AcceptedCmp2  Complain  \\\n",
       "0             0             0             0             0         0   \n",
       "1             0             0             0             0         0   \n",
       "2             0             0             0             0         0   \n",
       "3             0             0             0             0         0   \n",
       "4             0             0             0             0         0   \n",
       "\n",
       "   Z_CostContact  Z_Revenue  Response  \n",
       "0              3         11         1  \n",
       "1              3         11         0  \n",
       "2              3         11         0  \n",
       "3              3         11         0  \n",
       "4              3         11         0  \n",
       "\n",
       "[5 rows x 29 columns]"
      ]
     },
     "execution_count": 4,
     "metadata": {},
     "output_type": "execute_result"
    }
   ],
   "source": [
    "#Membaca file csv untuk pengolahan dataset\n",
    "df = pd.read_csv(\"marketing_campaign.csv\", sep=\"\\t\")\n",
    "\n",
    "#Menampilkan jumlah baris dan kolom pada dataset\n",
    "print(df.shape)\n",
    "\n",
    "#Membaca 5 baris pertama dari dataset\n",
    "df.head()\n",
    "\n",
    "#Karena tidak semua kolom ditampilkan, kita perlu menampilkan daftar kolom beserta tipe datanya\n",
    "#df.info()"
   ]
  },
  {
   "cell_type": "code",
   "execution_count": 5,
   "metadata": {
    "scrolled": true
   },
   "outputs": [
    {
     "name": "stdout",
     "output_type": "stream",
     "text": [
      "                 ID   Year_Birth         Income      Kidhome     Teenhome  \\\n",
      "count   2240.000000  2240.000000    2216.000000  2240.000000  2240.000000   \n",
      "mean    5592.159821  1968.805804   52247.251354     0.444196     0.506250   \n",
      "std     3246.662198    11.984069   25173.076661     0.538398     0.544538   \n",
      "min        0.000000  1893.000000    1730.000000     0.000000     0.000000   \n",
      "25%     2828.250000  1959.000000   35303.000000     0.000000     0.000000   \n",
      "50%     5458.500000  1970.000000   51381.500000     0.000000     0.000000   \n",
      "75%     8427.750000  1977.000000   68522.000000     1.000000     1.000000   \n",
      "max    11191.000000  1996.000000  666666.000000     2.000000     2.000000   \n",
      "\n",
      "           Recency     MntWines    MntFruits  MntMeatProducts  \\\n",
      "count  2240.000000  2240.000000  2240.000000      2240.000000   \n",
      "mean     49.109375   303.935714    26.302232       166.950000   \n",
      "std      28.962453   336.597393    39.773434       225.715373   \n",
      "min       0.000000     0.000000     0.000000         0.000000   \n",
      "25%      24.000000    23.750000     1.000000        16.000000   \n",
      "50%      49.000000   173.500000     8.000000        67.000000   \n",
      "75%      74.000000   504.250000    33.000000       232.000000   \n",
      "max      99.000000  1493.000000   199.000000      1725.000000   \n",
      "\n",
      "       MntFishProducts     ...       NumWebVisitsMonth  AcceptedCmp3  \\\n",
      "count      2240.000000     ...             2240.000000   2240.000000   \n",
      "mean         37.525446     ...                5.316518      0.072768   \n",
      "std          54.628979     ...                2.426645      0.259813   \n",
      "min           0.000000     ...                0.000000      0.000000   \n",
      "25%           3.000000     ...                3.000000      0.000000   \n",
      "50%          12.000000     ...                6.000000      0.000000   \n",
      "75%          50.000000     ...                7.000000      0.000000   \n",
      "max         259.000000     ...               20.000000      1.000000   \n",
      "\n",
      "       AcceptedCmp4  AcceptedCmp5  AcceptedCmp1  AcceptedCmp2     Complain  \\\n",
      "count   2240.000000   2240.000000   2240.000000   2240.000000  2240.000000   \n",
      "mean       0.074554      0.072768      0.064286      0.013393     0.009375   \n",
      "std        0.262728      0.259813      0.245316      0.114976     0.096391   \n",
      "min        0.000000      0.000000      0.000000      0.000000     0.000000   \n",
      "25%        0.000000      0.000000      0.000000      0.000000     0.000000   \n",
      "50%        0.000000      0.000000      0.000000      0.000000     0.000000   \n",
      "75%        0.000000      0.000000      0.000000      0.000000     0.000000   \n",
      "max        1.000000      1.000000      1.000000      1.000000     1.000000   \n",
      "\n",
      "       Z_CostContact  Z_Revenue     Response  \n",
      "count         2240.0     2240.0  2240.000000  \n",
      "mean             3.0       11.0     0.149107  \n",
      "std              0.0        0.0     0.356274  \n",
      "min              3.0       11.0     0.000000  \n",
      "25%              3.0       11.0     0.000000  \n",
      "50%              3.0       11.0     0.000000  \n",
      "75%              3.0       11.0     0.000000  \n",
      "max              3.0       11.0     1.000000  \n",
      "\n",
      "[8 rows x 26 columns]\n",
      "         Education Marital_Status Dt_Customer\n",
      "count         2240           2240        2240\n",
      "unique           5              8         663\n",
      "top     Graduation        Married  31-08-2012\n",
      "freq          1127            864          12\n"
     ]
    }
   ],
   "source": [
    "#Menampilkan statistik dari kolom yang memiliki nilai bertipe numerik\n",
    "print(df.describe())\n",
    "\n",
    "#Menampilkan statistik dari kolom yang memiliki nilai bertipe objek/kategorik\n",
    "print(df.select_dtypes(['object']).describe())"
   ]
  },
  {
   "cell_type": "markdown",
   "metadata": {},
   "source": [
    "## Apakah Education berpengaruh terhadap Income atau tidak?\n",
    "### 1. Eksplorasi Dataset Education dan Income"
   ]
  },
  {
   "cell_type": "code",
   "execution_count": 6,
   "metadata": {},
   "outputs": [
    {
     "data": {
      "text/html": [
       "<div>\n",
       "<table border=\"1\" class=\"dataframe\">\n",
       "  <thead>\n",
       "    <tr style=\"text-align: right;\">\n",
       "      <th></th>\n",
       "      <th>Education</th>\n",
       "      <th>Income</th>\n",
       "    </tr>\n",
       "  </thead>\n",
       "  <tbody>\n",
       "    <tr>\n",
       "      <th>0</th>\n",
       "      <td>Graduation</td>\n",
       "      <td>58138.0</td>\n",
       "    </tr>\n",
       "    <tr>\n",
       "      <th>1</th>\n",
       "      <td>Graduation</td>\n",
       "      <td>46344.0</td>\n",
       "    </tr>\n",
       "    <tr>\n",
       "      <th>2</th>\n",
       "      <td>Graduation</td>\n",
       "      <td>71613.0</td>\n",
       "    </tr>\n",
       "    <tr>\n",
       "      <th>3</th>\n",
       "      <td>Graduation</td>\n",
       "      <td>26646.0</td>\n",
       "    </tr>\n",
       "    <tr>\n",
       "      <th>4</th>\n",
       "      <td>PhD</td>\n",
       "      <td>58293.0</td>\n",
       "    </tr>\n",
       "  </tbody>\n",
       "</table>\n",
       "</div>"
      ],
      "text/plain": [
       "    Education   Income\n",
       "0  Graduation  58138.0\n",
       "1  Graduation  46344.0\n",
       "2  Graduation  71613.0\n",
       "3  Graduation  26646.0\n",
       "4         PhD  58293.0"
      ]
     },
     "execution_count": 6,
     "metadata": {},
     "output_type": "execute_result"
    }
   ],
   "source": [
    "#Menampilkan kolom Education dan Income dari dataset\n",
    "df[['Education', 'Income']].head()"
   ]
  },
  {
   "cell_type": "code",
   "execution_count": 7,
   "metadata": {},
   "outputs": [
    {
     "name": "stdout",
     "output_type": "stream",
     "text": [
      "count           2240\n",
      "unique             5\n",
      "top       Graduation\n",
      "freq            1127\n",
      "Name: Education, dtype: object \n",
      "\n",
      "count      2216.000000\n",
      "mean      52247.251354\n",
      "std       25173.076661\n",
      "min        1730.000000\n",
      "25%       35303.000000\n",
      "50%       51381.500000\n",
      "75%       68522.000000\n",
      "max      666666.000000\n",
      "Name: Income, dtype: float64\n"
     ]
    }
   ],
   "source": [
    "#Menampilkan statistik dari kolom Education dan Income\n",
    "print(df['Education'].describe(), '\\n')\n",
    "print(df['Income'].describe())"
   ]
  },
  {
   "cell_type": "code",
   "execution_count": 8,
   "metadata": {
    "scrolled": false
   },
   "outputs": [
    {
     "name": "stdout",
     "output_type": "stream",
     "text": [
      "Graduation    1127\n",
      "PhD            486\n",
      "Master         370\n",
      "2n Cycle       203\n",
      "Basic           54\n",
      "Name: Education, dtype: int64\n"
     ]
    }
   ],
   "source": [
    "#Menampilkan jumlah nilai yang muncul pada kolom bertipe kategorik\n",
    "print(df['Education'].value_counts())"
   ]
  },
  {
   "cell_type": "markdown",
   "metadata": {},
   "source": [
    "### Data Cleaning dan Visualisasi Data"
   ]
  },
  {
   "cell_type": "code",
   "execution_count": 10,
   "metadata": {},
   "outputs": [
    {
     "name": "stdout",
     "output_type": "stream",
     "text": [
      "False\n"
     ]
    }
   ],
   "source": [
    "#Menghilangkan data dengan missing values pada Income\n",
    "print(df['Income'].isnull().values.any())\n",
    "df = df.dropna(subset=['Education', 'Income'])"
   ]
  },
  {
   "cell_type": "code",
   "execution_count": 11,
   "metadata": {},
   "outputs": [
    {
     "data": {
      "image/png": "[encoded data removed]",
      "text/plain": [
       "<matplotlib.figure.Figure at 0x1c5f4a1ff60>"
      ]
     },
     "metadata": {},
     "output_type": "display_data"
    }
   ],
   "source": [
    "import seaborn as sns\n",
    "import matplotlib.pyplot as plt\n",
    "\n",
    "sns.distplot(df['Income'], kde=False, color='red', bins=50)\n",
    "plt.show()"
   ]
  },
  {
   "cell_type": "markdown",
   "metadata": {},
   "source": [
    "Dari histogram di atas ada beberapa outlier yang akan kita hapus"
   ]
  },
  {
   "cell_type": "code",
   "execution_count": 13,
   "metadata": {
    "scrolled": true
   },
   "outputs": [
    {
     "data": {
      "image/png": "[encoded data removed]",
      "text/plain": [
       "<matplotlib.figure.Figure at 0x1c5f51874e0>"
      ]
     },
     "metadata": {},
     "output_type": "display_data"
    }
   ],
   "source": [
    "#Menghilangkan data dengan Income >= 200000\n",
    "df.drop(df[df['Income'] >= 200000].index, inplace=True)\n",
    "\n",
    "#Menampilkan histogram setelah data cleaning untuk pengecekan\n",
    "sns.distplot(df['Income'], kde=False, color='red', bins=50)\n",
    "plt.show()"
   ]
  },
  {
   "cell_type": "markdown",
   "metadata": {},
   "source": [
    "Masih ada outliers!"
   ]
  },
  {
   "cell_type": "code",
   "execution_count": 15,
   "metadata": {
    "scrolled": true
   },
   "outputs": [
    {
     "data": {
      "image/png": "[encoded data removed]",
      "text/plain": [
       "<matplotlib.figure.Figure at 0x1c5f6494cf8>"
      ]
     },
     "metadata": {},
     "output_type": "display_data"
    }
   ],
   "source": [
    "#Menghilangkan data dengan Income >= 120000\n",
    "df.drop(df[df['Income'] >= 120000].index, inplace=True)\n",
    "\n",
    "#Menampilkan histogram setelah data cleaning untuk pengecekan\n",
    "sns.distplot(df['Income'], kde=False, color='red', bins=50)\n",
    "plt.show()"
   ]
  },
  {
   "cell_type": "code",
   "execution_count": 18,
   "metadata": {},
   "outputs": [
    {
     "name": "stdout",
     "output_type": "stream",
     "text": [
      "count      2208.000000\n",
      "mean      51633.638134\n",
      "std       20713.376530\n",
      "min        1730.000000\n",
      "25%       35196.000000\n",
      "50%       51301.000000\n",
      "75%       68289.750000\n",
      "max      113734.000000\n",
      "Name: Income, dtype: float64 \n",
      "\n",
      "count           2208\n",
      "unique             5\n",
      "top       Graduation\n",
      "freq            1113\n",
      "Name: Education, dtype: object \n",
      "\n",
      "Graduation    1113\n",
      "PhD            477\n",
      "Master         364\n",
      "2n Cycle       200\n",
      "Basic           54\n",
      "Name: Education, dtype: int64\n"
     ]
    }
   ],
   "source": [
    "#Menampilkan statistik dari kolom Education dan Income setelah data cleaning\n",
    "print(df['Income'].describe(), '\\n')\n",
    "print(df['Education'].describe(), '\\n')\n",
    "\n",
    "#Menampilkan jumlah nilai yang muncul pada Education setelah data cleaning\n",
    "print(df['Education'].value_counts())"
   ]
  },
  {
   "cell_type": "markdown",
   "metadata": {},
   "source": [
    "### Data Wrangling"
   ]
  },
  {
   "cell_type": "code",
   "execution_count": 19,
   "metadata": {},
   "outputs": [],
   "source": [
    "#Membagi data ke dalam 5 subset data sesuai 5 jenis Education\n",
    "dfgrad = df[df['Education']=='Graduation']\n",
    "dfphd = df[df['Education']=='PhD']\n",
    "dfmaster = df[df['Education']=='Master']\n",
    "df2nc = df[df['Education']=='2n Cycle']\n",
    "dfbasic = df[df['Education']=='Basic']"
   ]
  },
  {
   "cell_type": "code",
   "execution_count": 20,
   "metadata": {
    "scrolled": true
   },
   "outputs": [
    {
     "name": "stdout",
     "output_type": "stream",
     "text": [
      "Statistik pendapatan dari customer dengan tingkat pendidikan Graduation \n",
      " count      1113.000000\n",
      "mean      51984.008086\n",
      "std       20918.205185\n",
      "min        1730.000000\n",
      "25%       34824.000000\n",
      "50%       51948.000000\n",
      "75%       69755.000000\n",
      "max      105471.000000\n",
      "Name: Income, dtype: float64 \n",
      "\n",
      "Statistik pendapatan dari customer dengan tingkat pendidikan PhD \n",
      " count       477.000000\n",
      "mean      55279.935010\n",
      "std       18389.610436\n",
      "min        4023.000000\n",
      "25%       40344.000000\n",
      "50%       55012.000000\n",
      "75%       69063.000000\n",
      "max      113734.000000\n",
      "Name: Income, dtype: float64 \n",
      "\n",
      "Statistik pendapatan dari customer dengan tingkat pendidikan Master \n",
      " count      364.000000\n",
      "mean     52629.579670\n",
      "std      19419.253764\n",
      "min       6560.000000\n",
      "25%      37697.250000\n",
      "50%      50920.500000\n",
      "75%      66658.500000\n",
      "max      98777.000000\n",
      "Name: Income, dtype: float64 \n",
      "\n",
      "Statistik pendapatan dari customer dengan tingkat pendidikan 2n Cycle \n",
      " count      200.000000\n",
      "mean     47633.190000\n",
      "std      22119.081838\n",
      "min       7500.000000\n",
      "25%      27526.500000\n",
      "50%      46805.000000\n",
      "75%      65393.250000\n",
      "max      96547.000000\n",
      "Name: Income, dtype: float64 \n",
      "\n",
      "Statistik pendapatan dari customer dengan tingkat pendidikan Basic \n",
      " count       54.000000\n",
      "mean     20306.259259\n",
      "std       6235.066773\n",
      "min       7500.000000\n",
      "25%      15405.250000\n",
      "50%      20744.000000\n",
      "75%      24882.000000\n",
      "max      34445.000000\n",
      "Name: Income, dtype: float64 \n",
      "\n"
     ]
    }
   ],
   "source": [
    "#Menampilkan statistik income dari masing-masing subset\n",
    "print('Statistik pendapatan dari customer dengan tingkat pendidikan Graduation \\n', dfgrad['Income'].describe(), '\\n')\n",
    "print('Statistik pendapatan dari customer dengan tingkat pendidikan PhD \\n', dfphd['Income'].describe(), '\\n')\n",
    "print('Statistik pendapatan dari customer dengan tingkat pendidikan Master \\n', dfmaster['Income'].describe(), '\\n')\n",
    "print('Statistik pendapatan dari customer dengan tingkat pendidikan 2n Cycle \\n', df2nc['Income'].describe(), '\\n')\n",
    "print('Statistik pendapatan dari customer dengan tingkat pendidikan Basic \\n', dfbasic['Income'].describe(), '\\n')"
   ]
  },
  {
   "cell_type": "code",
   "execution_count": 32,
   "metadata": {},
   "outputs": [
    {
     "name": "stdout",
     "output_type": "stream",
     "text": [
      "Sebaran pendapatan dari customer dengan tingkat pendidikan Graduation \n",
      " 20918.205184764593 \n",
      "\n",
      "Sebaran pendapatan dari customer dengan tingkat pendidikan PhD \n",
      " 18389.610436158426 \n",
      "\n",
      "Sebaran pendapatan dari customer dengan tingkat pendidikan Master \n",
      " 19419.253764015008 \n",
      "\n",
      "Sebaran pendapatan dari customer dengan tingkat pendidikan 2n Cycle \n",
      " 22119.08183787594 \n",
      "\n",
      "Sebaran pendapatan dari customer dengan tingkat pendidikan Basic \n",
      " 6235.066773288436 \n",
      "\n"
     ]
    }
   ],
   "source": [
    "#Menampilkan standar deviasi dari masing-masing subset\n",
    "print('Sebaran pendapatan dari customer dengan tingkat pendidikan Graduation \\n', dfgrad['Income'].std(), '\\n')\n",
    "print('Sebaran pendapatan dari customer dengan tingkat pendidikan PhD \\n', dfphd['Income'].std(), '\\n')\n",
    "print('Sebaran pendapatan dari customer dengan tingkat pendidikan Master \\n', dfmaster['Income'].std(), '\\n')\n",
    "print('Sebaran pendapatan dari customer dengan tingkat pendidikan 2n Cycle \\n', df2nc['Income'].std(), '\\n')\n",
    "print('Sebaran pendapatan dari customer dengan tingkat pendidikan Basic \\n', dfbasic['Income'].std(), '\\n')"
   ]
  },
  {
   "cell_type": "code",
   "execution_count": 31,
   "metadata": {
    "scrolled": true
   },
   "outputs": [
    {
     "data": {
      "image/png": "[encoded data removed]",
      "text/plain": [
       "<matplotlib.figure.Figure at 0x1c5f6380390>"
      ]
     },
     "metadata": {},
     "output_type": "display_data"
    }
   ],
   "source": [
    "#Menampilkan boxplot masing-masing subset data\n",
    "sns.boxplot( x=df[\"Education\"], y=df[\"Income\"], width=0.5)\n",
    "plt.show()"
   ]
  },
  {
   "cell_type": "markdown",
   "metadata": {},
   "source": [
    "### Pengujian Hipotesis"
   ]
  },
  {
   "cell_type": "markdown",
   "metadata": {},
   "source": [
    "Hipotesis yang akan kita buktikan adalah\n",
    "\n",
    "H0 = Education tidak mempunyai pengaruh terhadap Income\n",
    "\n",
    "H1 = Education mempunyai pengaruh signifikan terhadap Income"
   ]
  },
  {
   "cell_type": "code",
   "execution_count": 22,
   "metadata": {},
   "outputs": [
    {
     "name": "stdout",
     "output_type": "stream",
     "text": [
      "Tingkat pendidikan customer mempunyai pengaruh signifikan pada pendapatan customer\n"
     ]
    }
   ],
   "source": [
    "#Pengujian dengan ANOVA\n",
    "anova_test = st.f_oneway(dfgrad['Income'], dfphd['Income'], dfmaster['Income'], df2nc['Income'], dfbasic['Income'])\n",
    "\n",
    "if anova_test.pvalue > 0.05:\n",
    "    print('Tingkat pendidikan customer tidak berpengaruh pada pendapatan customer')\n",
    "else:\n",
    "    print('Tingkat pendidikan customer mempunyai pengaruh signifikan pada pendapatan customer')"
   ]
  }
 ],
 "metadata": {
  "kernelspec": {
   "display_name": "Python 3 (ipykernel)",
   "language": "python",
   "name": "python3"
  },
  "language_info": {
   "codemirror_mode": {
    "name": "ipython",
    "version": 3
   },
   "file_extension": ".py",
   "mimetype": "text/x-python",
   "name": "python",
   "nbconvert_exporter": "python",
   "pygments_lexer": "ipython3",
   "version": "3.9.12"
  }
 },
 "nbformat": 4,
 "nbformat_minor": 2
}

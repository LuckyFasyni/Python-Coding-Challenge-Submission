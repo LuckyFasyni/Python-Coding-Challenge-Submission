{
 "cells": [
  {
   "cell_type": "code",
   "execution_count": 69,
   "id": "1ba072f5",
   "metadata": {
    "collapsed": true,
    "id": "882d5513"
   },
   "outputs": [],
   "source": [
    "import pandas as pd\n",
    "import numpy as np"
   ]
  },
  {
   "cell_type": "code",
   "execution_count": 70,
   "id": "5e41a543",
   "metadata": {
    "collapsed": true,
    "id": "926a0b60"
   },
   "outputs": [],
   "source": [
    "df = pd.read_csv('telco_customer_churn.csv')"
   ]
  },
  {
   "cell_type": "markdown",
   "id": "061f63ce",
   "metadata": {
    "id": "7785e649"
   },
   "source": [
    "### Welcome to Day 9 Homework. Please answer the questions below!"
   ]
  },
  {
   "cell_type": "markdown",
   "id": "4656a344",
   "metadata": {
    "id": "49ed3504"
   },
   "source": [
    "1. Buanglah baris dengan `tenure` samadengan 0 (jadi, data yang akan kita analisa di PR ini adalah baris-baris dengan `tenure` TIDAK samadengan 0). Ada berapa baris yang sekarang tersedia di data kita?\n",
    "\n",
    "2. Bagi customer yang ***TIDAK MEMILIKI PARTNER*** dan ***TIDAK MEMILIKI DEPENDENTS***, berapa ***rata-rata*** dari `tenure` mereka?\n",
    "\n",
    "3. Bagi customer yang ***MEMILIKI PARTNER*** dan ***TIDAK MEMILIKI DEPENDENTS***, berapa maksimal `MonthlyCharges` yang tercata?\n",
    "\n",
    "4. Berapa banyak customer yang ***TIDAK MEMILIKI PARTNER*** namun ***MEMILIKI DEPENDENTS***?\n",
    "\n",
    "5. Berapa rata-rata ***TOTAL CHARGES*** dari customer ***NON-SENIOR CITIZEN*** (Senior Citizen = 0) yang memiliki ***PHONE SERVICE*** dan memiliki ***INTERNET SERVICE FIBER OPTIC***?"
   ]
  },
  {
   "cell_type": "markdown",
   "id": "2ee9ee50",
   "metadata": {
    "id": "9f8c283f"
   },
   "source": [
    "#### Silakan menuliskan kode untuk menjawab 5 pertanyaan di atas..."
   ]
  },
  {
   "cell_type": "code",
   "execution_count": 71,
   "id": "939dbd52",
   "metadata": {
    "colab": {
     "base_uri": "https://localhost:8080/",
     "height": 386
    },
    "collapsed": false,
    "id": "9179e1c6",
    "outputId": "3bfdfd6d-c376-4ec6-f176-a1eaccbb0690"
   },
   "outputs": [
    {
     "data": {
      "text/html": [
       "\n",
       "  <div id=\"df-18af9f46-a469-40c6-aa67-8dbdc0df0366\">\n",
       "    <div class=\"colab-df-container\">\n",
       "      <div>\n",
       "<style scoped>\n",
       "    .dataframe tbody tr th:only-of-type {\n",
       "        vertical-align: middle;\n",
       "    }\n",
       "\n",
       "    .dataframe tbody tr th {\n",
       "        vertical-align: top;\n",
       "    }\n",
       "\n",
       "    .dataframe thead th {\n",
       "        text-align: right;\n",
       "    }\n",
       "</style>\n",
       "<table border=\"1\" class=\"dataframe\">\n",
       "  <thead>\n",
       "    <tr style=\"text-align: right;\">\n",
       "      <th></th>\n",
       "      <th>customerID</th>\n",
       "      <th>gender</th>\n",
       "      <th>SeniorCitizen</th>\n",
       "      <th>Partner</th>\n",
       "      <th>Dependents</th>\n",
       "      <th>tenure</th>\n",
       "      <th>PhoneService</th>\n",
       "      <th>MultipleLines</th>\n",
       "      <th>InternetService</th>\n",
       "      <th>OnlineSecurity</th>\n",
       "      <th>...</th>\n",
       "      <th>DeviceProtection</th>\n",
       "      <th>TechSupport</th>\n",
       "      <th>StreamingTV</th>\n",
       "      <th>StreamingMovies</th>\n",
       "      <th>Contract</th>\n",
       "      <th>PaperlessBilling</th>\n",
       "      <th>PaymentMethod</th>\n",
       "      <th>MonthlyCharges</th>\n",
       "      <th>TotalCharges</th>\n",
       "      <th>Churn</th>\n",
       "    </tr>\n",
       "  </thead>\n",
       "  <tbody>\n",
       "    <tr>\n",
       "      <th>0</th>\n",
       "      <td>7590-VHVEG</td>\n",
       "      <td>Female</td>\n",
       "      <td>0</td>\n",
       "      <td>Yes</td>\n",
       "      <td>No</td>\n",
       "      <td>1</td>\n",
       "      <td>No</td>\n",
       "      <td>No phone service</td>\n",
       "      <td>DSL</td>\n",
       "      <td>No</td>\n",
       "      <td>...</td>\n",
       "      <td>No</td>\n",
       "      <td>No</td>\n",
       "      <td>No</td>\n",
       "      <td>No</td>\n",
       "      <td>Month-to-month</td>\n",
       "      <td>Yes</td>\n",
       "      <td>Electronic check</td>\n",
       "      <td>29.85</td>\n",
       "      <td>29.85</td>\n",
       "      <td>No</td>\n",
       "    </tr>\n",
       "    <tr>\n",
       "      <th>1</th>\n",
       "      <td>5575-GNVDE</td>\n",
       "      <td>Male</td>\n",
       "      <td>0</td>\n",
       "      <td>No</td>\n",
       "      <td>No</td>\n",
       "      <td>34</td>\n",
       "      <td>Yes</td>\n",
       "      <td>No</td>\n",
       "      <td>DSL</td>\n",
       "      <td>Yes</td>\n",
       "      <td>...</td>\n",
       "      <td>Yes</td>\n",
       "      <td>No</td>\n",
       "      <td>No</td>\n",
       "      <td>No</td>\n",
       "      <td>One year</td>\n",
       "      <td>No</td>\n",
       "      <td>Mailed check</td>\n",
       "      <td>56.95</td>\n",
       "      <td>1889.5</td>\n",
       "      <td>No</td>\n",
       "    </tr>\n",
       "    <tr>\n",
       "      <th>2</th>\n",
       "      <td>3668-QPYBK</td>\n",
       "      <td>Male</td>\n",
       "      <td>0</td>\n",
       "      <td>No</td>\n",
       "      <td>No</td>\n",
       "      <td>2</td>\n",
       "      <td>Yes</td>\n",
       "      <td>No</td>\n",
       "      <td>DSL</td>\n",
       "      <td>Yes</td>\n",
       "      <td>...</td>\n",
       "      <td>No</td>\n",
       "      <td>No</td>\n",
       "      <td>No</td>\n",
       "      <td>No</td>\n",
       "      <td>Month-to-month</td>\n",
       "      <td>Yes</td>\n",
       "      <td>Mailed check</td>\n",
       "      <td>53.85</td>\n",
       "      <td>108.15</td>\n",
       "      <td>Yes</td>\n",
       "    </tr>\n",
       "    <tr>\n",
       "      <th>3</th>\n",
       "      <td>7795-CFOCW</td>\n",
       "      <td>Male</td>\n",
       "      <td>0</td>\n",
       "      <td>No</td>\n",
       "      <td>No</td>\n",
       "      <td>45</td>\n",
       "      <td>No</td>\n",
       "      <td>No phone service</td>\n",
       "      <td>DSL</td>\n",
       "      <td>Yes</td>\n",
       "      <td>...</td>\n",
       "      <td>Yes</td>\n",
       "      <td>Yes</td>\n",
       "      <td>No</td>\n",
       "      <td>No</td>\n",
       "      <td>One year</td>\n",
       "      <td>No</td>\n",
       "      <td>Bank transfer (automatic)</td>\n",
       "      <td>42.30</td>\n",
       "      <td>1840.75</td>\n",
       "      <td>No</td>\n",
       "    </tr>\n",
       "    <tr>\n",
       "      <th>4</th>\n",
       "      <td>9237-HQITU</td>\n",
       "      <td>Female</td>\n",
       "      <td>0</td>\n",
       "      <td>No</td>\n",
       "      <td>No</td>\n",
       "      <td>2</td>\n",
       "      <td>Yes</td>\n",
       "      <td>No</td>\n",
       "      <td>Fiber optic</td>\n",
       "      <td>No</td>\n",
       "      <td>...</td>\n",
       "      <td>No</td>\n",
       "      <td>No</td>\n",
       "      <td>No</td>\n",
       "      <td>No</td>\n",
       "      <td>Month-to-month</td>\n",
       "      <td>Yes</td>\n",
       "      <td>Electronic check</td>\n",
       "      <td>70.70</td>\n",
       "      <td>151.65</td>\n",
       "      <td>Yes</td>\n",
       "    </tr>\n",
       "  </tbody>\n",
       "</table>\n",
       "<p>5 rows × 21 columns</p>\n",
       "</div>\n",
       "      <button class=\"colab-df-convert\" onclick=\"convertToInteractive('df-18af9f46-a469-40c6-aa67-8dbdc0df0366')\"\n",
       "              title=\"Convert this dataframe to an interactive table.\"\n",
       "              style=\"display:none;\">\n",
       "        \n",
       "  <svg xmlns=\"http://www.w3.org/2000/svg\" height=\"24px\"viewBox=\"0 0 24 24\"\n",
       "       width=\"24px\">\n",
       "    <path d=\"M0 0h24v24H0V0z\" fill=\"none\"/>\n",
       "    <path d=\"M18.56 5.44l.94 2.06.94-2.06 2.06-.94-2.06-.94-.94-2.06-.94 2.06-2.06.94zm-11 1L8.5 8.5l.94-2.06 2.06-.94-2.06-.94L8.5 2.5l-.94 2.06-2.06.94zm10 10l.94 2.06.94-2.06 2.06-.94-2.06-.94-.94-2.06-.94 2.06-2.06.94z\"/><path d=\"M17.41 7.96l-1.37-1.37c-.4-.4-.92-.59-1.43-.59-.52 0-1.04.2-1.43.59L10.3 9.45l-7.72 7.72c-.78.78-.78 2.05 0 2.83L4 21.41c.39.39.9.59 1.41.59.51 0 1.02-.2 1.41-.59l7.78-7.78 2.81-2.81c.8-.78.8-2.07 0-2.86zM5.41 20L4 18.59l7.72-7.72 1.47 1.35L5.41 20z\"/>\n",
       "  </svg>\n",
       "      </button>\n",
       "      \n",
       "  <style>\n",
       "    .colab-df-container {\n",
       "      display:flex;\n",
       "      flex-wrap:wrap;\n",
       "      gap: 12px;\n",
       "    }\n",
       "\n",
       "    .colab-df-convert {\n",
       "      background-color: #E8F0FE;\n",
       "      border: none;\n",
       "      border-radius: 50%;\n",
       "      cursor: pointer;\n",
       "      display: none;\n",
       "      fill: #1967D2;\n",
       "      height: 32px;\n",
       "      padding: 0 0 0 0;\n",
       "      width: 32px;\n",
       "    }\n",
       "\n",
       "    .colab-df-convert:hover {\n",
       "      background-color: #E2EBFA;\n",
       "      box-shadow: 0px 1px 2px rgba(60, 64, 67, 0.3), 0px 1px 3px 1px rgba(60, 64, 67, 0.15);\n",
       "      fill: #174EA6;\n",
       "    }\n",
       "\n",
       "    [theme=dark] .colab-df-convert {\n",
       "      background-color: #3B4455;\n",
       "      fill: #D2E3FC;\n",
       "    }\n",
       "\n",
       "    [theme=dark] .colab-df-convert:hover {\n",
       "      background-color: #434B5C;\n",
       "      box-shadow: 0px 1px 3px 1px rgba(0, 0, 0, 0.15);\n",
       "      filter: drop-shadow(0px 1px 2px rgba(0, 0, 0, 0.3));\n",
       "      fill: #FFFFFF;\n",
       "    }\n",
       "  </style>\n",
       "\n",
       "      <script>\n",
       "        const buttonEl =\n",
       "          document.querySelector('#df-18af9f46-a469-40c6-aa67-8dbdc0df0366 button.colab-df-convert');\n",
       "        buttonEl.style.display =\n",
       "          google.colab.kernel.accessAllowed ? 'block' : 'none';\n",
       "\n",
       "        async function convertToInteractive(key) {\n",
       "          const element = document.querySelector('#df-18af9f46-a469-40c6-aa67-8dbdc0df0366');\n",
       "          const dataTable =\n",
       "            await google.colab.kernel.invokeFunction('convertToInteractive',\n",
       "                                                     [key], {});\n",
       "          if (!dataTable) return;\n",
       "\n",
       "          const docLinkHtml = 'Like what you see? Visit the ' +\n",
       "            '<a target=\"_blank\" href=https://colab.research.google.com/notebooks/data_table.ipynb>data table notebook</a>'\n",
       "            + ' to learn more about interactive tables.';\n",
       "          element.innerHTML = '';\n",
       "          dataTable['output_type'] = 'display_data';\n",
       "          await google.colab.output.renderOutput(dataTable, element);\n",
       "          const docLink = document.createElement('div');\n",
       "          docLink.innerHTML = docLinkHtml;\n",
       "          element.appendChild(docLink);\n",
       "        }\n",
       "      </script>\n",
       "    </div>\n",
       "  </div>\n",
       "  "
      ],
      "text/plain": [
       "   customerID  gender  SeniorCitizen Partner Dependents  tenure PhoneService  \\\n",
       "0  7590-VHVEG  Female              0     Yes         No       1           No   \n",
       "1  5575-GNVDE    Male              0      No         No      34          Yes   \n",
       "2  3668-QPYBK    Male              0      No         No       2          Yes   \n",
       "3  7795-CFOCW    Male              0      No         No      45           No   \n",
       "4  9237-HQITU  Female              0      No         No       2          Yes   \n",
       "\n",
       "      MultipleLines InternetService OnlineSecurity  ... DeviceProtection  \\\n",
       "0  No phone service             DSL             No  ...               No   \n",
       "1                No             DSL            Yes  ...              Yes   \n",
       "2                No             DSL            Yes  ...               No   \n",
       "3  No phone service             DSL            Yes  ...              Yes   \n",
       "4                No     Fiber optic             No  ...               No   \n",
       "\n",
       "  TechSupport StreamingTV StreamingMovies        Contract PaperlessBilling  \\\n",
       "0          No          No              No  Month-to-month              Yes   \n",
       "1          No          No              No        One year               No   \n",
       "2          No          No              No  Month-to-month              Yes   \n",
       "3         Yes          No              No        One year               No   \n",
       "4          No          No              No  Month-to-month              Yes   \n",
       "\n",
       "               PaymentMethod MonthlyCharges  TotalCharges Churn  \n",
       "0           Electronic check          29.85         29.85    No  \n",
       "1               Mailed check          56.95        1889.5    No  \n",
       "2               Mailed check          53.85        108.15   Yes  \n",
       "3  Bank transfer (automatic)          42.30       1840.75    No  \n",
       "4           Electronic check          70.70        151.65   Yes  \n",
       "\n",
       "[5 rows x 21 columns]"
      ]
     },
     "execution_count": 71,
     "metadata": {},
     "output_type": "execute_result"
    }
   ],
   "source": [
    "df.head()"
   ]
  },
  {
   "cell_type": "code",
   "execution_count": 72,
   "id": "084465e4",
   "metadata": {
    "colab": {
     "base_uri": "https://localhost:8080/"
    },
    "collapsed": false,
    "id": "NIN187eQPdJh",
    "outputId": "766b3c3c-35ca-4d81-8bbb-676ff953f492"
   },
   "outputs": [
    {
     "data": {
      "text/plain": [
       "(7043, 21)"
      ]
     },
     "execution_count": 72,
     "metadata": {},
     "output_type": "execute_result"
    }
   ],
   "source": [
    "df.shape"
   ]
  },
  {
   "cell_type": "markdown",
   "id": "80d914bb",
   "metadata": {
    "id": "5UlhzFhMSzYK"
   },
   "source": [
    "### Code Soal 1"
   ]
  },
  {
   "cell_type": "code",
   "execution_count": 77,
   "id": "fb85da69",
   "metadata": {
    "colab": {
     "base_uri": "https://localhost:8080/"
    },
    "collapsed": false,
    "id": "9abc37d6",
    "outputId": "4a930119-5fcf-42aa-843f-4a76a7cac372"
   },
   "outputs": [
    {
     "name": "stdout",
     "output_type": "stream",
     "text": [
      "jumlah baris sebelum cleaning: 7043 baris\n",
      "jumlah baris setelah cleaning: 7032 baris\n"
     ]
    }
   ],
   "source": [
    "print('jumlah baris sebelum cleaning:', df.shape[0], 'baris')\n",
    "df.drop(df.index[df['tenure'] == 0], inplace=True)\n",
    "print('jumlah baris setelah cleaning:', df.shape[0], 'baris')"
   ]
  },
  {
   "cell_type": "markdown",
   "id": "0adaad4b",
   "metadata": {
    "id": "ffvCNDyUS3ZS"
   },
   "source": [
    "### Code Soal 2"
   ]
  },
  {
   "cell_type": "code",
   "execution_count": 78,
   "id": "5ec3e401",
   "metadata": {
    "colab": {
     "base_uri": "https://localhost:8080/"
    },
    "collapsed": false,
    "id": "85898f63",
    "outputId": "6df8b0ac-908a-478a-c9e3-2e8be22d7dac"
   },
   "outputs": [
    {
     "data": {
      "text/plain": [
       "23.303353658536587"
      ]
     },
     "execution_count": 78,
     "metadata": {},
     "output_type": "execute_result"
    }
   ],
   "source": [
    "df['tenure'][(df['Partner']=='No') & (df['Dependents']=='No')].mean()"
   ]
  },
  {
   "cell_type": "markdown",
   "id": "c6317acf",
   "metadata": {
    "id": "yj0SWa4fS5dq"
   },
   "source": [
    "### Code Soal 3"
   ]
  },
  {
   "cell_type": "code",
   "execution_count": 79,
   "id": "b4606a1a",
   "metadata": {
    "colab": {
     "base_uri": "https://localhost:8080/"
    },
    "collapsed": false,
    "id": "fa30c020",
    "outputId": "384c9316-dcc6-4a86-dfce-89f47dbd017e"
   },
   "outputs": [
    {
     "data": {
      "text/plain": [
       "118.6"
      ]
     },
     "execution_count": 79,
     "metadata": {},
     "output_type": "execute_result"
    }
   ],
   "source": [
    "df['MonthlyCharges'][(df['Partner']=='Yes') & (df['Dependents']=='No')].max()"
   ]
  },
  {
   "cell_type": "markdown",
   "id": "5512b237",
   "metadata": {
    "id": "IU9tINugS66p"
   },
   "source": [
    "###  Code Soal 4"
   ]
  },
  {
   "cell_type": "code",
   "execution_count": 80,
   "id": "8bd9e229",
   "metadata": {
    "colab": {
     "base_uri": "https://localhost:8080/"
    },
    "collapsed": false,
    "id": "2f3b2269",
    "outputId": "56caacf8-0dfb-4c88-fc1a-74ae8cd17a3c"
   },
   "outputs": [
    {
     "data": {
      "text/plain": [
       "359"
      ]
     },
     "execution_count": 80,
     "metadata": {},
     "output_type": "execute_result"
    }
   ],
   "source": [
    "len(df['customerID'][(df['Partner']=='No') & (df['Dependents']=='Yes')].unique().tolist())"
   ]
  },
  {
   "cell_type": "markdown",
   "id": "3a4d7c11",
   "metadata": {
    "id": "H55O0cJoS8uI"
   },
   "source": [
    "### Code Soal 5"
   ]
  },
  {
   "cell_type": "code",
   "execution_count": 81,
   "id": "dfdd103f",
   "metadata": {
    "colab": {
     "base_uri": "https://localhost:8080/"
    },
    "collapsed": false,
    "id": "81cdf861",
    "outputId": "8d628894-b189-4578-e3aa-d64e35486a27"
   },
   "outputs": [
    {
     "data": {
      "text/plain": [
       "3226.4927373068463"
      ]
     },
     "execution_count": 81,
     "metadata": {},
     "output_type": "execute_result"
    }
   ],
   "source": [
    "df['TotalCharges'][(df['SeniorCitizen']==0) & (df['PhoneService']=='Yes') & (df['InternetService']=='Fiber optic')].astype('float64').mean()"
   ]
  },
  {
   "cell_type": "markdown",
   "id": "904ebfc8",
   "metadata": {
    "id": "82e27591"
   },
   "source": [
    "### Silakan menjawab di bawah ini:"
   ]
  },
  {
   "cell_type": "markdown",
   "id": "9f0b03b1",
   "metadata": {
    "id": "32da4e60"
   },
   "source": [
    "#### Soal 1:\n",
    "Buanglah baris dengan tenure samadengan 0 (jadi, data yang akan kita analisa di PR ini adalah baris-baris dengan tenure TIDAK samadengan 0). Ada berapa baris yang sekarang tersedia di data kita?\n",
    "\n",
    "#### Jawaban: 7032"
   ]
  },
  {
   "cell_type": "markdown",
   "id": "0dc1229b",
   "metadata": {
    "id": "ba6e8a61"
   },
   "source": [
    "#### Soal 2:\n",
    "Bagi customer yang TIDAK MEMILIKI PARTNER dan TIDAK MEMILIKI DEPENDENTS, berapa rata-rata dari tenure mereka?\n",
    "\n",
    "#### Jawaban: 23.303353658536587"
   ]
  },
  {
   "cell_type": "markdown",
   "id": "087a3023",
   "metadata": {
    "id": "b5c0f46b"
   },
   "source": [
    "#### Soal 3:\n",
    "Bagi customer yang MEMILIKI PARTNER dan TIDAK MEMILIKI DEPENDENTS, berapa maksimal MonthlyCharges yang tercata?\n",
    "\n",
    "#### Jawaban: 118.6"
   ]
  },
  {
   "cell_type": "markdown",
   "id": "a353a79e",
   "metadata": {
    "id": "de4b2bb3"
   },
   "source": [
    "#### Soal 4:\n",
    "Berapa banyak customer yang TIDAK MEMILIKI PARTNER namun MEMILIKI DEPENDENTS?\n",
    "\n",
    "#### Jawaban: 359 (jika tenure == 0 dihilangkan) dan 361 (jika tenure == 0 tidak dihilangkan)"
   ]
  },
  {
   "cell_type": "markdown",
   "id": "30d1d8db",
   "metadata": {
    "id": "3b91d8b0"
   },
   "source": [
    "#### Soal 5:\n",
    "Berapa rata-rata TOTAL CHARGES dari customer NON-SENIOR CITIZEN (Senior Citizen = 0) yang memiliki PHONE SERVICE dan memiliki INTERNET SERVICE FIBER OPTIC?\n",
    "\n",
    "#### Jawaban: 3226.4927373068463"
   ]
  },
  {
   "cell_type": "code",
   "execution_count": null,
   "id": "82769b66",
   "metadata": {
    "collapsed": true,
    "id": "bb9945d4"
   },
   "outputs": [],
   "source": []
  }
 ],
 "metadata": {
  "colab": {
   "name": "day9_homework.ipynb",
   "provenance": []
  },
  "kernelspec": {
   "display_name": "Python 3",
   "language": "python",
   "name": "python3"
  },
  "language_info": {
   "codemirror_mode": {
    "name": "ipython",
    "version": 3
   },
   "file_extension": ".py",
   "mimetype": "text/x-python",
   "name": "python",
   "nbconvert_exporter": "python",
   "pygments_lexer": "ipython3",
   "version": "3.6.0"
  }
 },
 "nbformat": 4,
 "nbformat_minor": 5
}
